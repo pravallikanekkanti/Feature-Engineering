{
 "cells": [
  {
   "cell_type": "code",
   "execution_count": 1,
   "metadata": {},
   "outputs": [],
   "source": [
    "import numpy as np\n",
    "import pandas as pd\n",
    "import datetime\n",
    "from sklearn.cross_validation import KFold\n",
    "from sklearn.cross_validation import train_test_split\n",
    "import time\n",
    "from sklearn import preprocessing\n",
    "from scipy.stats import skew"
   ]
  },
  {
   "cell_type": "code",
   "execution_count": 2,
   "metadata": {},
   "outputs": [
    {
     "name": "stdout",
     "output_type": "stream",
     "text": [
      "Delete features with high number of missing values...\n"
     ]
    }
   ],
   "source": [
    "train = pd.read_csv(\"./input/train.csv\") # read training data\n",
    "test = pd.read_csv(\"./input/test.csv\") # read the test data\n",
    "\n",
    "tables = [train,test]\n",
    "print (\"Delete features with high number of missing values...\")\n",
    "total_missing = train.isnull().sum()\n",
    "to_delete = total_missing[total_missing>(train.shape[0]/3.)]\n",
    "for table in tables:\n",
    "    table.drop(list(to_delete.index),axis=1,inplace=True)\n",
    "\n",
    "numerical_features = test.select_dtypes(include=[\"float\",\"int\",\"bool\"]).columns.values\n",
    "categorical_features = train.select_dtypes(include=[\"object\"]).columns.values"
   ]
  },
  {
   "cell_type": "code",
   "execution_count": 3,
   "metadata": {},
   "outputs": [
    {
     "data": {
      "text/plain": [
       "Alley          1369\n",
       "FireplaceQu     690\n",
       "PoolQC         1453\n",
       "Fence          1179\n",
       "MiscFeature    1406\n",
       "dtype: int64"
      ]
     },
     "execution_count": 3,
     "metadata": {},
     "output_type": "execute_result"
    }
   ],
   "source": [
    "to_delete"
   ]
  }
 ],
 "metadata": {
  "anaconda-cloud": {},
  "kernelspec": {
   "display_name": "Python 3",
   "language": "python",
   "name": "python3"
  },
  "language_info": {
   "codemirror_mode": {
    "name": "ipython",
    "version": 3
   },
   "file_extension": ".py",
   "mimetype": "text/x-python",
   "name": "python",
   "nbconvert_exporter": "python",
   "pygments_lexer": "ipython3",
   "version": "3.6.4"
  }
 },
 "nbformat": 4,
 "nbformat_minor": 1
}
